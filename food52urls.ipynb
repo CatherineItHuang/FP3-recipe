{
 "cells": [
  {
   "cell_type": "code",
   "execution_count": 25,
   "metadata": {},
   "outputs": [],
   "source": [
    "#import lib\n",
    "import requests\n",
    "from bs4 import BeautifulSoup"
   ]
  },
  {
   "cell_type": "code",
   "execution_count": 246,
   "metadata": {},
   "outputs": [],
   "source": [
    "import pandas as pd"
   ]
  },
  {
   "cell_type": "code",
   "execution_count": 289,
   "metadata": {},
   "outputs": [],
   "source": [
    "food52url=pd.DataFrame()"
   ]
  },
  {
   "cell_type": "markdown",
   "metadata": {},
   "source": [
    "Test search urls for recipes: \n",
    "\n",
    "    * each page is post-marked by '?page=2'\n",
    "    * each recipe is marked with (\"a\", class_=\"photo\")\n",
    "    * each page has 24 recipes \n",
    "    * recipe starts with 'https://food52.com/'"
   ]
  },
  {
   "cell_type": "code",
   "execution_count": 293,
   "metadata": {
    "scrolled": true
   },
   "outputs": [
    {
     "data": {
      "text/plain": [
       "'https://food52.com/recipes?page=220'"
      ]
     },
     "execution_count": 293,
     "metadata": {},
     "output_type": "execute_result"
    }
   ],
   "source": [
    "def food52_urls(): \n",
    "    all_recipe_page_urls=['https://food52.com/recipes']\n",
    "    for i in range(2, 221):\n",
    "        test_url='https://food52.com/recipes?page='\n",
    "        all_recipe_page_urls.append(test_url + str(i))\n",
    "    return all_recipe_page_urls\n",
    "food52_urls()[-1]"
   ]
  },
  {
   "cell_type": "code",
   "execution_count": 237,
   "metadata": {},
   "outputs": [],
   "source": [
    "def create_links(photo_class):\n",
    "    recipe_links=[]\n",
    "    link_start= 'https://food52.com'\n",
    "    for i in range (0, 24): \n",
    "        recipe_links.append(link_start + photo_class[i]['href'])\n",
    "    return recipe_links"
   ]
  },
  {
   "cell_type": "code",
   "execution_count": 270,
   "metadata": {},
   "outputs": [],
   "source": [
    "links=[]\n",
    "for i in range(0, 219): \n",
    "    links.extend(create_links((make_soup(food52_page_urls[i])).find_all(\"a\", class_='photo')))"
   ]
  },
  {
   "cell_type": "code",
   "execution_count": 290,
   "metadata": {},
   "outputs": [],
   "source": [
    "food52url['url']=links"
   ]
  },
  {
   "cell_type": "code",
   "execution_count": 294,
   "metadata": {},
   "outputs": [
    {
     "data": {
      "text/plain": [
       "<bound method DataFrame.to_csv of <class 'pandas.core.frame.DataFrame'>\n",
       "RangeIndex: 5256 entries, 0 to 5255\n",
       "Data columns (total 1 columns):\n",
       "url    5256 non-null object\n",
       "dtypes: object(1)\n",
       "memory usage: 41.1+ KB\n",
       ">"
      ]
     },
     "execution_count": 294,
     "metadata": {},
     "output_type": "execute_result"
    }
   ],
   "source": [
    "food52url.string.to_csv"
   ]
  },
  {
   "cell_type": "code",
   "execution_count": null,
   "metadata": {},
   "outputs": [],
   "source": []
  }
 ],
 "metadata": {
  "kernelspec": {
   "display_name": "Python 3",
   "language": "python",
   "name": "python3"
  },
  "language_info": {
   "codemirror_mode": {
    "name": "ipython",
    "version": 3
   },
   "file_extension": ".py",
   "mimetype": "text/x-python",
   "name": "python",
   "nbconvert_exporter": "python",
   "pygments_lexer": "ipython3",
   "version": "3.6.5"
  }
 },
 "nbformat": 4,
 "nbformat_minor": 2
}
